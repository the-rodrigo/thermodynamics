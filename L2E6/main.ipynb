{
 "cells": [
  {
   "cell_type": "code",
   "execution_count": 106,
   "metadata": {},
   "outputs": [],
   "source": [
    "import math\n",
    "import matplotlib.pyplot as plt\n",
    "import numpy as np\n",
    "from numpy import linspace"
   ]
  },
  {
   "attachments": {},
   "cell_type": "markdown",
   "metadata": {},
   "source": [
    "### Amônia - Isotérmico"
   ]
  },
  {
   "cell_type": "code",
   "execution_count": 107,
   "metadata": {},
   "outputs": [],
   "source": [
    "R = 8.314  # J/molK\n",
    "Tc = 405.7  # K\n",
    "Pc = 112.8*(10**5)  # Pa\n",
    "T = 373.15 # K\n",
    "Tr = T/Tc\n",
    "alfa = 1/(math.sqrt(Tr))\n",
    "a = (0.42748*alfa*(R**2)*(Tc**2))/Pc  # Pa*(m^3/mol)^2\n",
    "b = .08664*R*Tc/Pc  # m^3/mol\n",
    "\n",
    "pressures = linspace(10**5, 50*10**5, 10000)\n",
    "v_values = []"
   ]
  },
  {
   "attachments": {},
   "cell_type": "markdown",
   "metadata": {},
   "source": [
    "### Functions"
   ]
  },
  {
   "cell_type": "code",
   "execution_count": 108,
   "metadata": {},
   "outputs": [],
   "source": [
    "def initial_value(P) -> int or float:\n",
    "    return R*T/P\n",
    "\n",
    "\n",
    "def get_value(P, v) -> int or float:\n",
    "    return (initial_value(P) + b - ((a*(v-b))/(P*v*(v+b))))"
   ]
  },
  {
   "attachments": {},
   "cell_type": "markdown",
   "metadata": {},
   "source": [
    "### Loop"
   ]
  },
  {
   "cell_type": "code",
   "execution_count": 109,
   "metadata": {},
   "outputs": [],
   "source": [
    "for P in pressures:\n",
    "    v = []  # Variavel\n",
    "    g = []  # Função\n",
    "\n",
    "    v.append(initial_value(P))\n",
    "    i = 0\n",
    "    error = 10  # Valor alto aleatório para setar erro inicial\n",
    "    tolerance = 10**-100\n",
    "    safety_loops = 1000\n",
    "\n",
    "    while error > tolerance and i < safety_loops:\n",
    "\n",
    "        g.append(get_value(P, v[i]))\n",
    "        v.append(g[i])\n",
    "        error = abs(v[i+1] - v[i])\n",
    "        i += 1\n",
    "\n",
    "    v_values.append(v[len(v)-1])"
   ]
  },
  {
   "attachments": {},
   "cell_type": "markdown",
   "metadata": {},
   "source": [
    "### Final Results"
   ]
  },
  {
   "cell_type": "code",
   "execution_count": 110,
   "metadata": {},
   "outputs": [
    {
     "data": {
      "image/png": "[encoded data removed]",
      "text/plain": [
       "<Figure size 640x480 with 1 Axes>"
      ]
     },
     "metadata": {},
     "output_type": "display_data"
    },
    {
     "name": "stdout",
     "output_type": "stream",
     "text": [
      "O trabalho realizado pelo compressor foi: -12205.58J/mol\n"
     ]
    }
   ],
   "source": [
    "vf = v_values[len(v_values) - 1]\n",
    "vi = v_values[0]\n",
    "pressures = pressures/1000000\n",
    "\n",
    "W = (R*T*math.log((vf - b)/(vi - b))) + \\\n",
    "    ((a/b)*math.log((vi*(vf+b))/(vf*(vi+b))))  # J/mol\n",
    "Q = 0\n",
    "\n",
    "# plt.scatter(v_values,pressures)\n",
    "plt.plot(v_values,pressures, 'r')\n",
    "plt.ylim(0,pressures[len(pressures)-1]+.1)\n",
    "plt.xlim(0.000005,0.032)\n",
    "plt.axhline(0,ls=':',c='k')#show\n",
    "plt.title(r'Diagrama Px$\\bar V$ para amônia a 373.15K')\n",
    "plt.xlabel(r'$\\bar V$ /(m$^3$/mol)')\n",
    "plt.ylabel(r'$P$ /MPa')\n",
    "plt.show()\n",
    "\n",
    "print(f'O trabalho realizado pelo compressor foi: {W:.2f}J/mol')"
   ]
  }
 ],
 "metadata": {
  "kernelspec": {
   "display_name": "Python 3",
   "language": "python",
   "name": "python3"
  },
  "language_info": {
   "codemirror_mode": {
    "name": "ipython",
    "version": 3
   },
   "file_extension": ".py",
   "mimetype": "text/x-python",
   "name": "python",
   "nbconvert_exporter": "python",
   "pygments_lexer": "ipython3",
   "version": "3.11.1"
  },
  "orig_nbformat": 4
 },
 "nbformat": 4,
 "nbformat_minor": 2
}
